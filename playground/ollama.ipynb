{
 "cells": [
  {
   "cell_type": "code",
   "execution_count": 2,
   "id": "37a94f4b",
   "metadata": {},
   "outputs": [
    {
     "name": "stdout",
     "output_type": "stream",
     "text": [
      "我是 ChatGPT，一个由 OpenAI 训练的大型语言模型。我的任务是理解并生成自然语言，帮助你回答问题、提供信息、进行对话、写作、翻译、编程等多种语言相关的服务。你有什么想聊或想了解的吗？\n"
     ]
    }
   ],
   "source": [
    "import ollama\n",
    "\n",
    "# 调用模型生成文本\n",
    "response = ollama.chat(\n",
    "    model=\"gpt-oss:20b\",  # 替换为你已拉取的模型名称\n",
    "    messages=[\n",
    "        {\"role\": \"user\", \"content\": \"你是谁? \"},\n",
    "    ],\n",
    ")\n",
    "\n",
    "# 输出模型的响应\n",
    "print(response[\"message\"][\"content\"])"
   ]
  },
  {
   "cell_type": "code",
   "execution_count": 3,
   "id": "62082607",
   "metadata": {},
   "outputs": [
    {
     "name": "stdout",
     "output_type": "stream",
     "text": [
      "**日语翻译**  \n",
      "あな​たは馬鹿ですか？  \n",
      "\n",
      "**罗马音（罗马字）**  \n",
      "Anata wa baka desu ka?\n"
     ]
    }
   ],
   "source": [
    "import ollama\n",
    "\n",
    "response = ollama.chat(\n",
    "    model=\"gpt-oss:20b\",\n",
    "    messages=[\n",
    "        {\"role\": \"user\", \"content\": \"用日语翻译并标注罗马音: 你是不是傻? \"},\n",
    "    ],\n",
    ")\n",
    "\n",
    "print(response[\"message\"][\"content\"])"
   ]
  },
  {
   "cell_type": "markdown",
   "id": "7290058d",
   "metadata": {},
   "source": [
    "## Instructor"
   ]
  },
  {
   "cell_type": "code",
   "execution_count": 4,
   "id": "c9c56ba7",
   "metadata": {},
   "outputs": [
    {
     "name": "stdout",
     "output_type": "stream",
     "text": [
      "('{\\n'\n",
      " '  \"name\": \"Harry Potter\",\\n'\n",
      " '  \"age\": 11,\\n'\n",
      " '  \"fact\": [\\n'\n",
      " '    \"He was born to James and Lily Potter.\",\\n'\n",
      " '    \"His birth name is Harry James Potter.\",\\n'\n",
      " '    \"He had a pet owl named Hedwig.\",\\n'\n",
      " '    \"He went to Hogwarts School of Witchcraft and Wizardry.\",\\n'\n",
      " '    \"The lightning scar is the mark on his forehead from Lord Voldemort\\'s '\n",
      " 'failed attempt to kill him as a baby.\",\\n'\n",
      " '    \"He was sorted into Gryffindor House.\",\\n'\n",
      " '    \"He has green eyes, messy black hair that always seems to be flying in '\n",
      " 'all directions.\",\\n'\n",
      " '    \"He defeated Tom Riddle Jr./Lord Voldemort in the final battle of Harry '\n",
      " 'Potter series.\",\\n'\n",
      " '    \"Voldemort killed his parents when he was only one year old and tried to '\n",
      " 'kill him himself but failed (the Killing Curse rebounded because of his '\n",
      " 'mother\\'s love).\",\\n'\n",
      " '    \"He had a lightning bolt shaped scar on his forehead resulting from '\n",
      " 'surviving that attack.\"\\n'\n",
      " '  ]\\n'\n",
      " '}')\n"
     ]
    },
    {
     "data": {
      "text/plain": [
       "'\\n{\\n  \"name\": \"Harry James Potter\",\\n  \"age\": 37,\\n  \"fact\": [\\n    \"He is the chosen one.\",\\n    \"He has a lightning-shaped scar on his forehead.\",\\n    \"He is the son of James and Lily Potter.\",\\n    \"He attended Hogwarts School of Witchcraft and Wizardry.\",\\n    \"He is a skilled wizard and sorcerer.\",\\n    \"He fought against Lord Voldemort and his followers.\",\\n    \"He has a pet owl named Snowy.\"\\n  ]\\n}\\n'"
      ]
     },
     "execution_count": 4,
     "metadata": {},
     "output_type": "execute_result"
    }
   ],
   "source": [
    "from openai import OpenAI\n",
    "from pydantic import BaseModel, Field\n",
    "from typing import List\n",
    "\n",
    "import instructor\n",
    "\n",
    "\n",
    "class Character(BaseModel):\n",
    "    name: str\n",
    "    age: int\n",
    "    fact: List[str] = Field(..., description=\"A list of facts about the character\")\n",
    "\n",
    "\n",
    "# enables `response_model` in create call\n",
    "client = instructor.from_openai(\n",
    "    OpenAI(\n",
    "        base_url=\"http://localhost:11434/v1\",\n",
    "        api_key=\"ollama\",  # required, but unused\n",
    "    ),\n",
    "    mode=instructor.Mode.JSON,\n",
    ")\n",
    "\n",
    "resp = client.chat.completions.create(\n",
    "    model=\"deepseek-r1:8b\",\n",
    "    messages=[\n",
    "        {\n",
    "            \"role\": \"user\",\n",
    "            \"content\": \"Tell me about the Harry Potter, and the fact should be at least *10* items\",\n",
    "        }\n",
    "    ],\n",
    "    response_model=Character,\n",
    ")\n",
    "from pprint import pprint\n",
    "\n",
    "pprint(resp.model_dump_json(indent=2))\n",
    "\"\"\"\n",
    "{\n",
    "  \"name\": \"Harry James Potter\",\n",
    "  \"age\": 37,\n",
    "  \"fact\": [\n",
    "    \"He is the chosen one.\",\n",
    "    \"He has a lightning-shaped scar on his forehead.\",\n",
    "    \"He is the son of James and Lily Potter.\",\n",
    "    \"He attended Hogwarts School of Witchcraft and Wizardry.\",\n",
    "    \"He is a skilled wizard and sorcerer.\",\n",
    "    \"He fought against Lord Voldemort and his followers.\",\n",
    "    \"He has a pet owl named Snowy.\"\n",
    "  ]\n",
    "}\n",
    "\"\"\""
   ]
  }
 ],
 "metadata": {
  "kernelspec": {
   "display_name": "examgpt",
   "language": "python",
   "name": "python3"
  },
  "language_info": {
   "codemirror_mode": {
    "name": "ipython",
    "version": 3
   },
   "file_extension": ".py",
   "mimetype": "text/x-python",
   "name": "python",
   "nbconvert_exporter": "python",
   "pygments_lexer": "ipython3",
   "version": "3.13.5"
  }
 },
 "nbformat": 4,
 "nbformat_minor": 5
}
