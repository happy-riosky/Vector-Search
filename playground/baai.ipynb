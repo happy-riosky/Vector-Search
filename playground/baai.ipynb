{
 "cells": [
  {
   "cell_type": "markdown",
   "id": "678d863f",
   "metadata": {},
   "source": [
    "## Langchain"
   ]
  },
  {
   "cell_type": "code",
   "execution_count": 11,
   "id": "8552b014",
   "metadata": {},
   "outputs": [],
   "source": [
    "from langchain.embeddings import HuggingFaceBgeEmbeddings\n",
    "from langchain_community.vectorstores import DocArrayInMemorySearch\n",
    "\n",
    "bge_embeddings = HuggingFaceBgeEmbeddings(model_name=\"BAAI/bge-large-zh-v1.5\")\n",
    " \n",
    "vectordb = DocArrayInMemorySearch.from_texts(\n",
    "    [\"青蛙是食草动物\",\n",
    "     \"人是由恐龙进化而来的。\",\n",
    "     \"熊猫喜欢吃天鹅肉。\",\n",
    "     \"1+1=5\",\n",
    "     \"2+2=8\",\n",
    "     \"3+3=9\",\n",
    "    \"Gemini Pro is a Large Language Model was made by GoogleDeepMind\",\n",
    "     \"A Language model is trained by predicting the next token\"\n",
    "    ],\n",
    "    embedding=bge_embeddings \n",
    ")\n",
    " \n",
    "# #创建检索器\n",
    "bge_retriever = vectordb.as_retriever(search_kwargs={\"k\": 1})"
   ]
  },
  {
   "cell_type": "code",
   "execution_count": 19,
   "id": "55616ba7",
   "metadata": {},
   "outputs": [
    {
     "name": "stdout",
     "output_type": "stream",
     "text": [
      "[Document(metadata={}, page_content='青蛙是食草动物')]\n",
      "[Document(metadata={}, page_content='人是由恐龙进化而来的。')]\n",
      "[Document(metadata={}, page_content='熊猫喜欢吃天鹅肉。')]\n",
      "[Document(metadata={}, page_content='1+1=5')]\n",
      "[Document(metadata={}, page_content='Gemini Pro is a Large Language Model was made by GoogleDeepMind')]\n",
      "[Document(metadata={}, page_content='A Language model is trained by predicting the next token')]\n"
     ]
    }
   ],
   "source": [
    "print(bge_retriever.invoke(\"青蛙\"))\n",
    "print(bge_retriever.invoke(\"进化\"))\n",
    "print(bge_retriever.invoke(\"天鹅肉\"))\n",
    "print(bge_retriever.invoke(\"1+1\"))\n",
    "print(bge_retriever.invoke(\"google\"))\n",
    "print(bge_retriever.invoke(\"token\"))"
   ]
  },
  {
   "cell_type": "markdown",
   "id": "36d8c8e4",
   "metadata": {},
   "source": [
    "## LlamaIndex"
   ]
  },
  {
   "cell_type": "code",
   "execution_count": 13,
   "id": "aedc94b8",
   "metadata": {},
   "outputs": [],
   "source": [
    "from llama_index.core import VectorStoreIndex, Document\n",
    "from llama_index.embeddings.huggingface import HuggingFaceEmbedding\n",
    "\n",
    "# Initialize the embedding model\n",
    "bge_embeddings = HuggingFaceEmbedding(model_name=\"BAAI/bge-large-zh-v1.5\")\n",
    "\n",
    "# Create documents from the text list\n",
    "texts = [\n",
    "    \"青蛙是食草动物\",\n",
    "    \"人是由恐龙进化而来的。\",\n",
    "    \"熊猫喜欢吃天鹅肉。\",\n",
    "    \"1+1=5\",\n",
    "    \"2+2=8\",\n",
    "    \"3+3=9\",\n",
    "    \"Gemini Pro is a Large Language Model was made by GoogleDeepMind\",\n",
    "    \"A Language model is trained by predicting the next token\"\n",
    "]\n",
    "documents = [Document(text=text) for text in texts]\n",
    "\n",
    "# Create vector store index\n",
    "index = VectorStoreIndex.from_documents(\n",
    "    documents,\n",
    "    embed_model=bge_embeddings\n",
    ")\n",
    "\n",
    "# Create retriever\n",
    "bge_retriever2 = index.as_retriever(similarity_top_k=1)"
   ]
  },
  {
   "cell_type": "code",
   "execution_count": null,
   "id": "000b472a",
   "metadata": {},
   "outputs": [
    {
     "name": "stdout",
     "output_type": "stream",
     "text": [
      "青蛙是食草动物\n",
      "人是由恐龙进化而来的。\n",
      "熊猫喜欢吃天鹅肉。\n",
      "1+1=5\n",
      "Gemini Pro is a Large Language Model was made by GoogleDeepMind\n",
      "A Language model is trained by predicting the next token\n"
     ]
    }
   ],
   "source": [
    "print(bge_retriever2.retrieve(\"青蛙\")[0].text)\n",
    "print(bge_retriever2.retrieve(\"进化\")[0].text)\n",
    "print(bge_retriever2.retrieve(\"天鹅肉\")[0].text)\n",
    "print(bge_retriever2.retrieve(\"1+1\")[0].text)\n",
    "print(bge_retriever2.retrieve(\"google\")[0].text)\n",
    "print(bge_retriever2.retrieve(\"token\")[0].text)"
   ]
  },
  {
   "cell_type": "code",
   "execution_count": null,
   "id": "ef113568",
   "metadata": {},
   "outputs": [],
   "source": []
  },
  {
   "cell_type": "code",
   "execution_count": null,
   "id": "2c3f7718",
   "metadata": {},
   "outputs": [],
   "source": []
  }
 ],
 "metadata": {
  "kernelspec": {
   "display_name": "examgpt",
   "language": "python",
   "name": "python3"
  },
  "language_info": {
   "codemirror_mode": {
    "name": "ipython",
    "version": 3
   },
   "file_extension": ".py",
   "mimetype": "text/x-python",
   "name": "python",
   "nbconvert_exporter": "python",
   "pygments_lexer": "ipython3",
   "version": "3.13.5"
  }
 },
 "nbformat": 4,
 "nbformat_minor": 5
}
